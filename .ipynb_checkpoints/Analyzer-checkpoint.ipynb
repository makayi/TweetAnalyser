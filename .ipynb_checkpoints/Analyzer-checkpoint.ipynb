{
 "cells": [
  {
   "cell_type": "code",
   "execution_count": 1,
   "metadata": {},
   "outputs": [
    {
     "data": {
      "text/html": [
       "<script>requirejs.config({paths: { 'plotly': ['https://cdn.plot.ly/plotly-latest.min']},});if(!window.Plotly) {{require(['plotly'],function(plotly) {window.Plotly=plotly;});}}</script>"
      ],
      "text/vnd.plotly.v1+html": [
       "<script>requirejs.config({paths: { 'plotly': ['https://cdn.plot.ly/plotly-latest.min']},});if(!window.Plotly) {{require(['plotly'],function(plotly) {window.Plotly=plotly;});}}</script>"
      ]
     },
     "metadata": {},
     "output_type": "display_data"
    },
    {
     "name": "stdout",
     "output_type": "stream",
     "text": [
      "Postive Review 359\n",
      "Negative Review 61\n",
      "              fullname                  id  likes  replies  retweets  \\\n",
      "0     Luyando haamwala  953680771981697024      5        8         6   \n",
      "1    Thomas Kalimanshi  953646909406760960      0        0         0   \n",
      "2                  ACA  953636162702397440      2        0         0   \n",
      "3               iam_rj  953590723416268800      0        0         0   \n",
      "4    WELCOME TO ZAMBIA  953585805552955392      1        1         1   \n",
      "5  Innocent Siachitoba  953573716335693824      0        0         0   \n",
      "6       Chalimba Phiri  953567216087203840      4        0         0   \n",
      "7             Mwebantu  953566184858845184     79        1        11   \n",
      "8          KwachaManje  953560491636477952      1        0         1   \n",
      "9     Langmead & Baker  953560491238088704      1        0         0   \n",
      "\n",
      "                                                text           timestamp  \\\n",
      "0  Ministry of health has created a bank account ... 2018-01-17 17:29:49   \n",
      "1  Regulate is a product in South Africa that dea... 2018-01-17 15:15:15   \n",
      "2  Help Beat Cholera! the easy way!!  \\n#ZedVsCho... 2018-01-17 14:32:33   \n",
      "3  Dear UK Government @Number10gov please admit t... 2018-01-17 11:31:59   \n",
      "4         ati twalamikanda...\\r#Zambia #CholeraWatch 2018-01-17 11:12:27   \n",
      "5  Very good question...#CholeraWatch ...We will ... 2018-01-17 10:24:25   \n",
      "6  Enough of these donations, let's just all do o... 2018-01-17 09:58:35   \n",
      "7  #ZAMBIA: MEDIA personality, @MutaleMwanza has ... 2018-01-17 09:54:29   \n",
      "8  #ZambianBreweries donates over K2.5 million of... 2018-01-17 09:31:52   \n",
      "9  #ZambianBreweries donates over K2.5 million of... 2018-01-17 09:31:52   \n",
      "\n",
      "                                        url           user  sentiment score  \n",
      "0       /Luluhamz/status/953680771981697025       Luluhamz         0.000000  \n",
      "1    /TKalimanshi/status/953646909406760961    TKalimanshi         0.000000  \n",
      "2     /ZambiaAsks/status/953636162702397440     ZambiaAsks         0.555208  \n",
      "3       /iam_RJMw/status/953590723416268806       iam_RJMw        -0.200000  \n",
      "4  /Paul_Chibamba/status/953585805552955394  Paul_Chibamba         0.000000  \n",
      "5     /siachitoba/status/953573716335693825     siachitoba         0.910000  \n",
      "6     /ChaliPhiri/status/953567216087203840     ChaliPhiri         0.000000  \n",
      "7       /Mwebantu/status/953566184858845186       Mwebantu         0.000000  \n",
      "8    /KwachaManje/status/953560491636477952    KwachaManje        -0.100000  \n",
      "9        /LBComms/status/953560491238088704        LBComms        -0.100000  \n"
     ]
    },
    {
     "data": {
      "text/plain": [
       "<seaborn.axisgrid.PairGrid at 0x7fd4d7cf6710>"
      ]
     },
     "execution_count": 1,
     "metadata": {},
     "output_type": "execute_result"
    }
   ],
   "source": [
    "from textblob import TextBlob\n",
    "import numpy  as np\n",
    "import pandas as pd\n",
    "import matplotlib.pyplot as plt\n",
    "import openpyxl\n",
    "from sklearn.model_selection import  train_test_split\n",
    "import plotly\n",
    "from plotly.graph_objs import Scatter, Layout, Bar\n",
    "import  seaborn as sns\n",
    "\n",
    "plotly.offline.init_notebook_mode(connected=True)\n",
    "\n",
    "\n",
    "df= pd.read_json('choleradataset.json')\n",
    "\n",
    "global positive, negative\n",
    "global sentiment_Scores\n",
    "\n",
    "\n",
    "\n",
    "def analyser(df):\n",
    "    positive,negative=0,0\n",
    "    sentiment_Scores=[]\n",
    "    for index,text in enumerate(df['text']):\n",
    "\n",
    "        sentiment = TextBlob(text).sentiment.polarity\n",
    "\n",
    "        if (sentiment >= 0):\n",
    "            sentiment_Scores.append(sentiment)\n",
    "\n",
    "\n",
    "            positive += 1\n",
    "        else:\n",
    "            negative += 1\n",
    "            sentiment_Scores.append(sentiment)\n",
    "\n",
    "\n",
    "    df['sentiment score']=sentiment_Scores\n",
    "    print('Postive Review', positive)\n",
    "    print('Negative Review', negative)\n",
    "    plotly.offline.plot({\n",
    "        \"data\": [Bar(x=['Positive Tweets','Negative Tweets'], y=[positive,negative])],\n",
    "        \"layout\": Layout(title=\"Twitter Reaction to Date My Family\")\n",
    "    })\n",
    "\n",
    "\n",
    "analyser(df)\n",
    "\n",
    "print(df.head(10))\n",
    "\n",
    "\n",
    "\n",
    "\n",
    "df.to_csv('analysis.csv',sep='\\t',encoding='utf-8')\n",
    "\n",
    "writer = pd.ExcelWriter('output.xlsx')\n",
    "df.to_excel(writer,'Sheet1')\n",
    "writer.save()\n",
    "\n",
    "sns.pairplot(df)"
   ]
  },
  {
   "cell_type": "code",
   "execution_count": null,
   "metadata": {},
   "outputs": [],
   "source": []
  }
 ],
 "metadata": {
  "kernelspec": {
   "display_name": "Python 3",
   "language": "python",
   "name": "python3"
  },
  "language_info": {
   "codemirror_mode": {
    "name": "ipython",
    "version": 3
   },
   "file_extension": ".py",
   "mimetype": "text/x-python",
   "name": "python",
   "nbconvert_exporter": "python",
   "pygments_lexer": "ipython3",
   "version": "3.6.2"
  }
 },
 "nbformat": 4,
 "nbformat_minor": 1
}
